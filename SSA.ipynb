{
 "cells": [
  {
   "cell_type": "markdown",
   "metadata": {},
   "source": [
    "# Tools scripts\n",
    "The notebook must run in the same directory with \"train\", \"test\", \"val_seen\", \"val_unseen\", \"envdrop\" and \"joint_train_envdrop\""
   ]
  },
  {
   "cell_type": "code",
   "execution_count": 1,
   "metadata": {},
   "outputs": [],
   "source": [
    "import copy\n",
    "import gzip\n",
    "import itertools\n",
    "import json\n",
    "import pickle\n",
    "import random\n",
    "import re\n",
    "import threading\n",
    "import time\n",
    "from collections import Counter\n",
    "\n",
    "import clip\n",
    "import matplotlib.pyplot as plt\n",
    "import nltk\n",
    "import numpy as np\n",
    "import pandas as pd\n",
    "import seaborn as sns\n",
    "import torch\n",
    "from clip.simple_tokenizer import SimpleTokenizer as _Tokenizer\n",
    "from nltk.tokenize import PunktSentenceTokenizer\n",
    "from numba import jit\n",
    "from PIL import Image\n",
    "from tqdm.notebook import tqdm\n",
    "\n",
    "plt.rcParams['axes.unicode_minus'] = False\n",
    "# nltk.download(\"punkt\")\n",
    "# nltk.download(\"averaged_perceptron_tagger\")\n",
    "# sns.set()\n",
    "# plt.style.use('ggplot')"
   ]
  },
  {
   "cell_type": "markdown",
   "metadata": {},
   "source": [
    "# Train NLTK tokenizer"
   ]
  },
  {
   "cell_type": "code",
   "execution_count": 51,
   "metadata": {},
   "outputs": [
    {
     "data": {
      "application/vnd.jupyter.widget-view+json": {
       "model_id": "d88dee181c5b456d8c53ceec74c1ae65",
       "version_major": 2,
       "version_minor": 0
      },
      "text/plain": [
       "  0%|          | 0/4675 [00:00<?, ?it/s]"
      ]
     },
     "metadata": {},
     "output_type": "display_data"
    },
    {
     "data": {
      "application/vnd.jupyter.widget-view+json": {
       "model_id": "9b0b39d5e00a44ebb18329ef989ac963",
       "version_major": 2,
       "version_minor": 0
      },
      "text/plain": [
       "  0%|          | 0/340 [00:00<?, ?it/s]"
      ]
     },
     "metadata": {},
     "output_type": "display_data"
    },
    {
     "data": {
      "application/vnd.jupyter.widget-view+json": {
       "model_id": "638e739346434a2ea59b61d42c0e2dc8",
       "version_major": 2,
       "version_minor": 0
      },
      "text/plain": [
       "  0%|          | 0/783 [00:00<?, ?it/s]"
      ]
     },
     "metadata": {},
     "output_type": "display_data"
    },
    {
     "data": {
      "application/vnd.jupyter.widget-view+json": {
       "model_id": "9f5aeb15b576478da499d3784d3ca8dd",
       "version_major": 2,
       "version_minor": 0
      },
      "text/plain": [
       "  0%|          | 0/1391 [00:00<?, ?it/s]"
      ]
     },
     "metadata": {},
     "output_type": "display_data"
    }
   ],
   "source": [
    "# use R2R\n",
    "# before running this cell, R2R instruction dataset must be downloaded into folder \"r2r\"\n",
    "import pickle\n",
    "\n",
    "from nltk.tokenize import PunktSentenceTokenizer\n",
    "\n",
    "splits = [\"train\", \"val_seen\", \"val_unseen\", \"test\"]\n",
    "all_text = \"\"\n",
    "for split in splits:\n",
    "    sub_data_path = \"r2r/R2R_%s.json\"%(split)\n",
    "    with open(sub_data_path, \"r\") as f:\n",
    "        sub_data = json.loads(f.read())\n",
    "    for item in tqdm(sub_data):\n",
    "        for i in range(3):\n",
    "            all_text += item[\"instructions\"][i]+\" \"\n",
    "sent_tokenizer = PunktSentenceTokenizer(all_text.lower())\n",
    "f = open('r2r_sent_tokenizer.pickle', 'wb')\n",
    "pickle.dump(sent_tokenizer, f)\n",
    "f.close()\n",
    "f = open('r2r_sent_tokenizer.pickle', 'rb')\n",
    "sent_tokenizer = pickle.load(f)\n",
    "f.close()"
   ]
  },
  {
   "cell_type": "code",
   "execution_count": null,
   "metadata": {},
   "outputs": [],
   "source": [
    "# use VLN-CE\n",
    "import pickle\n",
    "\n",
    "from nltk.tokenize import PunktSentenceTokenizer\n",
    "\n",
    "splits = [\"train\", \"val_seen\", \"val_unseen\", \"test\"]\n",
    "all_text = \"\"\n",
    "for split in splits:\n",
    "    sub_data_path = \"%s/%s.json.gz\"%(split,split)\n",
    "    with gzip.open(sub_data_path, \"r\") as f:\n",
    "        sub_data = json.loads(f.read())\n",
    "    for item in tqdm(sub_data[\"episodes\"]):\n",
    "        all_text += item[\"instruction\"][\"instruction_text\"]+\" \"\n",
    "sent_tokenizer = PunktSentenceTokenizer(all_text)\n",
    "f = open('r2r_sent_tokenizer.pickle', 'wb')\n",
    "pickle.dump(sent_tokenizer, f)\n",
    "f.close()\n",
    "f = open('r2r_sent_tokenizer.pickle', 'rb')\n",
    "sent_tokenizer = pickle.load(f)\n",
    "f.close()"
   ]
  },
  {
   "cell_type": "markdown",
   "metadata": {
    "tags": []
   },
   "source": [
    "# FGR2R's chunking\n",
    "https://github.com/YicongHong/Fine-Grained-R2R\n",
    "\n",
    "Upgrade stanfordnlp to stanza"
   ]
  },
  {
   "cell_type": "code",
   "execution_count": 31,
   "metadata": {},
   "outputs": [],
   "source": [
    "import copy\n",
    "import functools\n",
    "import json\n",
    "import re\n",
    "import sys\n",
    "from collections import Counter\n",
    "\n",
    "import numpy as np\n",
    "#!pip install stanza\n",
    "import stanza\n",
    "\n",
    "# stanza.download(\"en\")\n",
    "\n",
    "\n",
    "def print_progress(iteration, total, prefix='', suffix='', decimals=1, bar_length=100):\n",
    "    \"\"\"\n",
    "    Call in a loop to create terminal progress bar\n",
    "    @params:\n",
    "        iteration   - Required  : current iteration (Int)\n",
    "        total       - Required  : total iterations (Int)\n",
    "        prefix      - Optional  : prefix string (Str)\n",
    "        suffix      - Optional  : suffix string (Str)\n",
    "        decimals    - Optional  : positive number of decimals in percent complete (Int)\n",
    "        bar_length  - Optional  : character length of bar (Int)\n",
    "    \"\"\"\n",
    "    str_format = \"{0:.\" + str(decimals) + \"f}\"\n",
    "    percents = str_format.format(100 * (iteration / float(total)))\n",
    "    filled_length = int(round(bar_length * iteration / float(total)))\n",
    "    bar = '_' * filled_length + '-' * (bar_length - filled_length)\n",
    "\n",
    "    sys.stdout.write('\\r%s |%s| %s%s %s' % (prefix, bar, percents, '%', suffix)),\n",
    "\n",
    "    if iteration == total:\n",
    "        sys.stdout.write('\\n')\n",
    "    sys.stdout.flush()\n",
    "\n",
    "def check_lemma(word):\n",
    "    \"\"\" Two special words, keep them in original form \"\"\"\n",
    "    if word.text in ['left','your']:\n",
    "        return word.text\n",
    "    else:\n",
    "        return word.lemma\n",
    "\n",
    "class Tokenizer(object):\n",
    "    \"\"\" Class to tokenize and encode a sentence. \"\"\"\n",
    "    SENTENCE_SPLIT_REGEX = re.compile(r'(\\W+)')  # Split on any non-alphanumeric character\n",
    "\n",
    "    def __init__(self):\n",
    "        pass\n",
    "\n",
    "    def split_sentence(self, sentence):\n",
    "        \"\"\" Break sentence into a list of words and punctuation \"\"\"\n",
    "        toks = []\n",
    "        for word in [s.strip().lower() for s in self.SENTENCE_SPLIT_REGEX.split(sentence.strip()) if\n",
    "                     len(s.strip()) > 0]:\n",
    "            # Break up any words containing punctuation only, e.g. '!?', unless it is multiple full stops e.g. '..'\n",
    "            if all(c in string.punctuation for c in word) and not all(c in '.' for c in word):\n",
    "                toks += list(word)\n",
    "            else:\n",
    "                toks.append(word)\n",
    "        return toks\n",
    "\n",
    "def create_chunk(doc, nlp):\n",
    "    doc = nlp(doc)\n",
    "    \n",
    "    max_kdx = len(doc.sentences) - 1\n",
    "    instr_lemma = [['<start>']]\n",
    "    for kdx, sent in enumerate(doc.sentences):\n",
    "\n",
    "        root_sub = []; conj_sub = []\n",
    "        for word in sent.words:\n",
    "            if (word.deprel == 'root'):\n",
    "                root_sub.append(int(word.id))\n",
    "            elif (word.deprel == 'conj' and word.head == 1) or (word.deprel == 'conj' and (word.head in root_sub or word.head in conj_sub)):\n",
    "                conj_sub.append(int(word.id))\n",
    "\n",
    "        max_jdx = len(sent.words) - 1\n",
    "        instr_lemma_sub = []; instr_depend_sub = []; instr_lemma_sub = []; ti = 0\n",
    "        for jdx, word in enumerate(sent.words):\n",
    "            if (word.deprel == 'root') and (('root' in instr_depend_sub) or ('parataxis' in instr_depend_sub)):\n",
    "                # print('1', word.lemma, instr_depend_sub)\n",
    "                if len(instr_lemma_sub) >= 2:\n",
    "                    ''' check for the special cases of turning and the word \"and\",\"then\" '''\n",
    "                    if (('advmod' in instr_depend_sub) or ('xcomp' in instr_depend_sub)) and ('obj' not in instr_depend_sub) and ('obl' not in instr_depend_sub) and ('nmod' not in instr_depend_sub):\n",
    "                        if (instr_lemma[-1][-1] == 'and') or (instr_lemma_sub[0]=='and') or (instr_lemma[-1][-1] == 'then') or (instr_lemma_sub[0]=='then'):\n",
    "                            instr_lemma[-1] += instr_lemma_sub\n",
    "                            instr_lemma_sub = []; instr_depend_sub = []\n",
    "                        else:\n",
    "                            'add to the next chunk'\n",
    "                    else:\n",
    "                        # print('a', instr_lemma_sub)\n",
    "                        instr_lemma.append(instr_lemma_sub)\n",
    "                        instr_lemma_sub = []; instr_depend_sub = []\n",
    "\n",
    "            elif ti <= len(conj_sub)-1:\n",
    "                if word.head == conj_sub[ti]:\n",
    "                    ti += 1\n",
    "                    # print('2', word.lemma, instr_depend_sub)\n",
    "                    if len(instr_lemma_sub) >= 2:\n",
    "                        ''' check for the special cases of turning and the word \"and\",\"then\" '''\n",
    "                        if (len(instr_lemma_sub) < 4) and (('advmod' in instr_depend_sub) or ('xcomp' in instr_depend_sub)) and ('obj' not in instr_depend_sub) and ('obl' not in instr_depend_sub) and ('nmod' not in instr_depend_sub):\n",
    "                            if (instr_lemma[-1][-1] == 'and') or (instr_lemma_sub[0]=='and') or (instr_lemma[-1][-1] == 'then') or (instr_lemma_sub[0]=='then'):\n",
    "                                instr_lemma[-1] += instr_lemma_sub\n",
    "                                instr_lemma_sub = []; instr_depend_sub = []\n",
    "                            else:\n",
    "                                'add to the next chunk'\n",
    "                        else:\n",
    "                            # print('b', instr_lemma_sub)\n",
    "                            instr_lemma.append(instr_lemma_sub)\n",
    "                            instr_lemma_sub = []; instr_depend_sub = []\n",
    "\n",
    "            elif (word.deprel == 'parataxis') and (('root' in instr_depend_sub) or ('parataxis' in instr_depend_sub)):\n",
    "                if len(instr_lemma_sub) >= 2:\n",
    "                    ''' check for the special cases of turning and the word \"and\",\"then\" '''\n",
    "                    if (('advmod' in instr_depend_sub) or ('xcomp' in instr_depend_sub)) and ('obj' not in instr_depend_sub) and ('obl' not in instr_depend_sub) and ('nmod' not in instr_depend_sub):\n",
    "                        if (instr_lemma[-1][-1] == 'and') or (instr_lemma_sub[0]=='and') or (instr_lemma[-1][-1] == 'then') or (instr_lemma_sub[0]=='then'):\n",
    "                            instr_lemma[-1] += instr_lemma_sub\n",
    "                            instr_lemma_sub = []; instr_depend_sub = []\n",
    "                        else:\n",
    "                            'add to the next chunk'\n",
    "                    else:\n",
    "                        instr_lemma.append(instr_lemma_sub)\n",
    "                        instr_lemma_sub = []; instr_depend_sub = []\n",
    "\n",
    "            if word.deprel not in ['punct']:\n",
    "                instr_lemma_sub.append(check_lemma(word))\n",
    "                instr_depend_sub.append(word.deprel)\n",
    "\n",
    "        if len(instr_lemma_sub) >= 2:\n",
    "            instr_lemma.append(instr_lemma_sub)\n",
    "        else:\n",
    "            instr_lemma[-1] += instr_lemma_sub\n",
    "    instr_lemma = [\" \".join(v) for v in instr_lemma[1:]]\n",
    "    return instr_lemma"
   ]
  },
  {
   "cell_type": "markdown",
   "metadata": {},
   "source": [
    "# Segmentation Tool"
   ]
  },
  {
   "cell_type": "code",
   "execution_count": 2,
   "metadata": {},
   "outputs": [],
   "source": [
    "def sub_segment_clip(train_data, append_dot=True, keep_subs=True, refine=False, segment_func=None, lower_all=False):\n",
    "    \"\"\"\n",
    "    Params:\n",
    "        train_data: a dataset dict\n",
    "        append_dot: whether to add a \".\" at the end of sub-instructions\n",
    "        keep_subs: whether to keep sub-instruction text after processing\n",
    "        refine: whether to use proposed refine processing\n",
    "        segment_func: the function used to segment instructions, default is `nltk.sent_tokenize`\n",
    "        lower_all: whether to lower all characters in sub-instructions.\n",
    "    Return:\n",
    "        train_data with \"sub_instruction_tokens\" and \"sub_instruction\"\n",
    "    \"\"\"\n",
    "    if segment_func is None:\n",
    "        segment_func = nltk.sent_tokenize\n",
    "    print(segment_func)\n",
    "    return_data = copy.deepcopy(train_data)\n",
    "    train_data = train_data[\"episodes\"]\n",
    "    # pre process\n",
    "    char_pattern = re.compile(r\"[a-zA-Z]\")\n",
    "    for i, item in enumerate(tqdm(train_data)):\n",
    "        inst = item[\"instruction\"][\"instruction_text\"]\n",
    "        inst = inst.strip()\n",
    "        start_idx = 0\n",
    "        while not char_pattern.search(inst[start_idx]):\n",
    "            start_idx += 1\n",
    "        inst = inst[start_idx:]\n",
    "        if lower_all:\n",
    "            inst = inst.lower()\n",
    "        train_data[i][\"instruction\"][\"instruction_text\"] = inst.replace(\"...\", \".\").replace(\"..\", \".\").replace(\".\",\". \").replace(\"  \", \" \")\n",
    "    \n",
    "    # sentence tokenize by nltk\n",
    "    pattern = re.compile(r\"\\r\\n\")\n",
    "    for i, item in enumerate(tqdm(train_data)):\n",
    "        inst = item[\"instruction\"][\"instruction_text\"]\n",
    "        res = []\n",
    "        now = pattern.split(inst)\n",
    "        for v in now:\n",
    "            res.extend(segment_func(v))\n",
    "        train_data[i][\"sub_instruction\"] = [piece.strip() for piece in res if piece.strip()]\n",
    "    # refine\n",
    "    if refine:\n",
    "        punctuation_list = [\",\", \".\"]\n",
    "        char_pattern = re.compile(r\"[a-zA-Z]+\")\n",
    "        def judge_verb(word):\n",
    "            const_verbs = [\"wait\", \"turn\", \"walk\", \"stop\"]\n",
    "            if \"VB\" in word[1]:\n",
    "                return True\n",
    "            if word[0] in const_verbs:\n",
    "                return True\n",
    "            return False\n",
    "        for i, item in enumerate(tqdm(train_data)):\n",
    "            new_sub = []\n",
    "            for k, piece in enumerate(item[\"sub_instruction\"]):\n",
    "                word_list = nltk.pos_tag(nltk.word_tokenize(piece))\n",
    "                tmp = \"\"\n",
    "                for x, word in enumerate(word_list):\n",
    "                    if (word[0].lower()==\"and\" or word[0]==\",\" or word[0].lower()==\"then\") and (x+1<len(word_list) and judge_verb(word_list[x+1])):\n",
    "                        if tmp and char_pattern.search(tmp):\n",
    "                            new_sub.append(tmp)\n",
    "                        if word[0].lower()==\"and\" or word[0].lower()==\"then\":\n",
    "                            tmp = word[0]\n",
    "                        else:\n",
    "                            tmp = \"\"\n",
    "                            \n",
    "                    elif (word[0]==\"and\" or word[0]==\",\") and (x+1<len(word_list) and word_list[x+1][0]==\"then\"):\n",
    "                        if tmp:\n",
    "                            new_sub.append(tmp)\n",
    "                        if word[0].lower()==\"and\" or word[0].lower()==\"then\":\n",
    "                            tmp = word[0]\n",
    "                        else:\n",
    "                            tmp = \"\"\n",
    "                    else:\n",
    "                        if not tmp or word[0] in punctuation_list:\n",
    "                            tmp+=word[0]\n",
    "                        else:\n",
    "                            tmp+=(\" \"+word[0])\n",
    "                if tmp:\n",
    "                    new_sub.append(tmp)\n",
    "            train_data[i][\"sub_instruction\"] = new_sub\n",
    "    \n",
    "    # post process and generate tokens\n",
    "    char_pattern = re.compile(r\"[a-zA-Z]\")\n",
    "    max_len = 0\n",
    "    instruction_vocab = return_data[\"instruction_vocab\"]\n",
    "    unk_index = instruction_vocab[\"UNK_INDEX\"]\n",
    "    pad_index = instruction_vocab[\"PAD_INDEX\"]\n",
    "    pad_len = 100\n",
    "    sub_pad_len = 77\n",
    "    sub_num = 10\n",
    "    useless_sub = [pad_index]*sub_pad_len\n",
    "    sub_split_index = -1\n",
    "    for i, item in enumerate(tqdm(train_data)):\n",
    "        tokens_all = []\n",
    "        tokens_split = []\n",
    "        for k, piece in enumerate(item[\"sub_instruction\"]):\n",
    "            piece = piece.strip()\n",
    "            assert piece\n",
    "            idx = len(piece)-1\n",
    "            while idx>=0 and piece[idx] in [\".\", \",\"]:\n",
    "                idx -= 1\n",
    "            if append_dot:\n",
    "                piece = piece[0:(idx+1)]+\".\"\n",
    "            else:\n",
    "                piece = piece[0:(idx+1)]\n",
    "            piece = piece.replace(\"``\", \"\\\"\").replace(\"''\", \"\\\"\")\n",
    "            train_data[i][\"sub_instruction\"][k] = piece\n",
    "            piece_tokens = clip.tokenize(piece, truncate=True).squeeze(0).tolist()\n",
    "            tokens_split.append(piece_tokens)\n",
    "        if len(tokens_split)>sub_num:\n",
    "            tokens_split = tokens_split[0:sub_num]\n",
    "        tokens_split.extend([useless_sub]*(sub_num-len(tokens_split)))\n",
    "        \n",
    "        train_data[i][\"instruction\"][\"instruction_tokens\"] = item[\"instruction\"][\"instruction_tokens\"][0:pad_len]\n",
    "        train_data[i][\"sub_instruction_tokens\"] = tokens_split\n",
    "        if not keep_subs:\n",
    "            del item[\"sub_instruction\"]\n",
    "    return_data[\"episodes\"] = train_data\n",
    "    return return_data"
   ]
  },
  {
   "cell_type": "markdown",
   "metadata": {},
   "source": [
    "# Process all data"
   ]
  },
  {
   "cell_type": "code",
   "execution_count": 3,
   "metadata": {},
   "outputs": [
    {
     "name": "stdout",
     "output_type": "stream",
     "text": [
      "<bound method PunktSentenceTokenizer.tokenize of <nltk.tokenize.punkt.PunktSentenceTokenizer object at 0x7f94d10d8d30>>\n"
     ]
    },
    {
     "data": {
      "application/vnd.jupyter.widget-view+json": {
       "model_id": "071253416b14483f9f843b85b01316ba",
       "version_major": 2,
       "version_minor": 0
      },
      "text/plain": [
       "  0%|          | 0/10819 [00:00<?, ?it/s]"
      ]
     },
     "metadata": {},
     "output_type": "display_data"
    },
    {
     "data": {
      "application/vnd.jupyter.widget-view+json": {
       "model_id": "4c1cbbca0bf943e8b39fb43c747ca6e1",
       "version_major": 2,
       "version_minor": 0
      },
      "text/plain": [
       "  0%|          | 0/10819 [00:00<?, ?it/s]"
      ]
     },
     "metadata": {},
     "output_type": "display_data"
    },
    {
     "data": {
      "application/vnd.jupyter.widget-view+json": {
       "model_id": "7a988a6215a64e17892c35271d03507e",
       "version_major": 2,
       "version_minor": 0
      },
      "text/plain": [
       "  0%|          | 0/10819 [00:00<?, ?it/s]"
      ]
     },
     "metadata": {},
     "output_type": "display_data"
    },
    {
     "data": {
      "application/vnd.jupyter.widget-view+json": {
       "model_id": "9beb1d2070bb40c3b480c6e9d71a9577",
       "version_major": 2,
       "version_minor": 0
      },
      "text/plain": [
       "  0%|          | 0/10819 [00:00<?, ?it/s]"
      ]
     },
     "metadata": {},
     "output_type": "display_data"
    },
    {
     "name": "stdout",
     "output_type": "stream",
     "text": [
      "<bound method PunktSentenceTokenizer.tokenize of <nltk.tokenize.punkt.PunktSentenceTokenizer object at 0x7f94d10d8d30>>\n"
     ]
    },
    {
     "data": {
      "application/vnd.jupyter.widget-view+json": {
       "model_id": "fa15bc6adf674d7da567f985e849f4ca",
       "version_major": 2,
       "version_minor": 0
      },
      "text/plain": [
       "  0%|          | 0/3408 [00:00<?, ?it/s]"
      ]
     },
     "metadata": {},
     "output_type": "display_data"
    },
    {
     "data": {
      "application/vnd.jupyter.widget-view+json": {
       "model_id": "adab74eb2d304f2fba9f9dd42c058703",
       "version_major": 2,
       "version_minor": 0
      },
      "text/plain": [
       "  0%|          | 0/3408 [00:00<?, ?it/s]"
      ]
     },
     "metadata": {},
     "output_type": "display_data"
    },
    {
     "data": {
      "application/vnd.jupyter.widget-view+json": {
       "model_id": "fa82b2fd1e3b49a883136f903be1da86",
       "version_major": 2,
       "version_minor": 0
      },
      "text/plain": [
       "  0%|          | 0/3408 [00:00<?, ?it/s]"
      ]
     },
     "metadata": {},
     "output_type": "display_data"
    },
    {
     "data": {
      "application/vnd.jupyter.widget-view+json": {
       "model_id": "9ab13edd099a4eaba27cb0c67396b3d4",
       "version_major": 2,
       "version_minor": 0
      },
      "text/plain": [
       "  0%|          | 0/3408 [00:00<?, ?it/s]"
      ]
     },
     "metadata": {},
     "output_type": "display_data"
    },
    {
     "name": "stdout",
     "output_type": "stream",
     "text": [
      "<bound method PunktSentenceTokenizer.tokenize of <nltk.tokenize.punkt.PunktSentenceTokenizer object at 0x7f94d10d8d30>>\n"
     ]
    },
    {
     "data": {
      "application/vnd.jupyter.widget-view+json": {
       "model_id": "de9ce5cc4a624a98a1041afd7450c696",
       "version_major": 2,
       "version_minor": 0
      },
      "text/plain": [
       "  0%|          | 0/778 [00:00<?, ?it/s]"
      ]
     },
     "metadata": {},
     "output_type": "display_data"
    },
    {
     "data": {
      "application/vnd.jupyter.widget-view+json": {
       "model_id": "4bc14c09490240888d8e54594e5642e5",
       "version_major": 2,
       "version_minor": 0
      },
      "text/plain": [
       "  0%|          | 0/778 [00:00<?, ?it/s]"
      ]
     },
     "metadata": {},
     "output_type": "display_data"
    },
    {
     "data": {
      "application/vnd.jupyter.widget-view+json": {
       "model_id": "8e17adcf84e04f27900add4fcdfa244b",
       "version_major": 2,
       "version_minor": 0
      },
      "text/plain": [
       "  0%|          | 0/778 [00:00<?, ?it/s]"
      ]
     },
     "metadata": {},
     "output_type": "display_data"
    },
    {
     "data": {
      "application/vnd.jupyter.widget-view+json": {
       "model_id": "a5062f0c7ea64790b50d640854204fef",
       "version_major": 2,
       "version_minor": 0
      },
      "text/plain": [
       "  0%|          | 0/778 [00:00<?, ?it/s]"
      ]
     },
     "metadata": {},
     "output_type": "display_data"
    },
    {
     "name": "stdout",
     "output_type": "stream",
     "text": [
      "<bound method PunktSentenceTokenizer.tokenize of <nltk.tokenize.punkt.PunktSentenceTokenizer object at 0x7f94d10d8d30>>\n"
     ]
    },
    {
     "data": {
      "application/vnd.jupyter.widget-view+json": {
       "model_id": "53eee09e3a704ffba23f744c2e34699d",
       "version_major": 2,
       "version_minor": 0
      },
      "text/plain": [
       "  0%|          | 0/1839 [00:00<?, ?it/s]"
      ]
     },
     "metadata": {},
     "output_type": "display_data"
    },
    {
     "data": {
      "application/vnd.jupyter.widget-view+json": {
       "model_id": "4043265e7bbc41e9879ac6daebe27eb3",
       "version_major": 2,
       "version_minor": 0
      },
      "text/plain": [
       "  0%|          | 0/1839 [00:00<?, ?it/s]"
      ]
     },
     "metadata": {},
     "output_type": "display_data"
    },
    {
     "data": {
      "application/vnd.jupyter.widget-view+json": {
       "model_id": "31b32d44f49d4e779cd1c91d937fc009",
       "version_major": 2,
       "version_minor": 0
      },
      "text/plain": [
       "  0%|          | 0/1839 [00:00<?, ?it/s]"
      ]
     },
     "metadata": {},
     "output_type": "display_data"
    },
    {
     "data": {
      "application/vnd.jupyter.widget-view+json": {
       "model_id": "dfda5403025b43d8b51e35a8cb714872",
       "version_major": 2,
       "version_minor": 0
      },
      "text/plain": [
       "  0%|          | 0/1839 [00:00<?, ?it/s]"
      ]
     },
     "metadata": {},
     "output_type": "display_data"
    },
    {
     "name": "stdout",
     "output_type": "stream",
     "text": [
      "<bound method PunktSentenceTokenizer.tokenize of <nltk.tokenize.punkt.PunktSentenceTokenizer object at 0x7f94d10d8d30>>\n"
     ]
    },
    {
     "data": {
      "application/vnd.jupyter.widget-view+json": {
       "model_id": "4bc06fd6886d4456b0addcb09602abbd",
       "version_major": 2,
       "version_minor": 0
      },
      "text/plain": [
       "  0%|          | 0/157232 [00:00<?, ?it/s]"
      ]
     },
     "metadata": {},
     "output_type": "display_data"
    },
    {
     "data": {
      "application/vnd.jupyter.widget-view+json": {
       "model_id": "cc646189390d4f9db82c6eeb020d7610",
       "version_major": 2,
       "version_minor": 0
      },
      "text/plain": [
       "  0%|          | 0/157232 [00:00<?, ?it/s]"
      ]
     },
     "metadata": {},
     "output_type": "display_data"
    },
    {
     "data": {
      "application/vnd.jupyter.widget-view+json": {
       "model_id": "77a9a42633304f63acfcb2ca927eeb76",
       "version_major": 2,
       "version_minor": 0
      },
      "text/plain": [
       "  0%|          | 0/157232 [00:00<?, ?it/s]"
      ]
     },
     "metadata": {},
     "output_type": "display_data"
    },
    {
     "data": {
      "application/vnd.jupyter.widget-view+json": {
       "model_id": "3dafe6f48ade4d849021f74deb491b03",
       "version_major": 2,
       "version_minor": 0
      },
      "text/plain": [
       "  0%|          | 0/157232 [00:00<?, ?it/s]"
      ]
     },
     "metadata": {},
     "output_type": "display_data"
    },
    {
     "name": "stdout",
     "output_type": "stream",
     "text": [
      "294.63329577445984\n"
     ]
    }
   ],
   "source": [
    "# NLTK + refine (SSASub)\n",
    "splits = [\"train\", \"test\", \"val_seen\", \"val_unseen\", \"envdrop\",  \"joint_train_envdrop\"]\n",
    "f = open('r2r_sent_tokenizer.pickle', 'rb')\n",
    "sent_tokenizer = pickle.load(f)\n",
    "f.close()\n",
    "sent_token = sent_tokenizer.tokenize\n",
    "tic = time.time()\n",
    "for split in splits:\n",
    "    raw_data_path = \"%s/%s.json.gz\"%(split, split)\n",
    "    sub_data_path = \"%s/%s_sub.json.gz\"%(split, split)\n",
    "    with gzip.open(raw_data_path, \"r\") as f:\n",
    "        raw_data = json.loads(f.read())\n",
    "    sub_data = sub_segment_clip(raw_data, refine=True, append_dot=False, segment_func=sent_token)\n",
    "    with gzip.open(sub_data_path, \"w\") as f:\n",
    "        f.write(json.dumps(sub_data).encode(\"utf-8\"))\n",
    "print(time.time()-tic)"
   ]
  },
  {
   "cell_type": "code",
   "execution_count": null,
   "metadata": {},
   "outputs": [],
   "source": [
    "# NLTK\n",
    "# splits = [\"train\", \"test\", \"val_seen\", \"val_unseen\"]#, \"envdrop\", \"joint_train_envdrop\"]\n",
    "# sent_token = nltk.sent_tokenize\n",
    "# for split in splits:\n",
    "#     raw_data_path = \"%s/%s.json.gz\"%(split, split)\n",
    "#     sub_data_path = \"%s/%s_sub.json.gz\"%(split, split)\n",
    "#     with gzip.open(raw_data_path, \"r\") as f:\n",
    "#         raw_data = json.loads(f.read())\n",
    "#     sub_data = sub_segment_clip(raw_data, refine=True, append_dot=False, segment_func=sent_token)\n",
    "#     with gzip.open(sub_data_path, \"w\") as f:\n",
    "#         f.write(json.dumps(sub_data).encode(\"utf-8\"))"
   ]
  },
  {
   "cell_type": "code",
   "execution_count": 14,
   "metadata": {},
   "outputs": [
    {
     "data": {
      "application/vnd.jupyter.widget-view+json": {
       "model_id": "9b7e8deeecdd4deb8db60631f1de31b7",
       "version_major": 2,
       "version_minor": 0
      },
      "text/plain": [
       "  0%|          | 0/10819 [00:00<?, ?it/s]"
      ]
     },
     "metadata": {},
     "output_type": "display_data"
    },
    {
     "data": {
      "application/vnd.jupyter.widget-view+json": {
       "model_id": "24d9922c2aef4ed3981e53fba03b2f17",
       "version_major": 2,
       "version_minor": 0
      },
      "text/plain": [
       "  0%|          | 0/10819 [00:00<?, ?it/s]"
      ]
     },
     "metadata": {},
     "output_type": "display_data"
    },
    {
     "data": {
      "application/vnd.jupyter.widget-view+json": {
       "model_id": "e13c76e65fd34d9da43d393909850db0",
       "version_major": 2,
       "version_minor": 0
      },
      "text/plain": [
       "  0%|          | 0/10819 [00:00<?, ?it/s]"
      ]
     },
     "metadata": {},
     "output_type": "display_data"
    },
    {
     "data": {
      "application/vnd.jupyter.widget-view+json": {
       "model_id": "6459ee9b5c9343d09fbce652a34c099f",
       "version_major": 2,
       "version_minor": 0
      },
      "text/plain": [
       "  0%|          | 0/3408 [00:00<?, ?it/s]"
      ]
     },
     "metadata": {},
     "output_type": "display_data"
    },
    {
     "data": {
      "application/vnd.jupyter.widget-view+json": {
       "model_id": "e00a7d8bac3d44bcb0e8964c2c7eb0b4",
       "version_major": 2,
       "version_minor": 0
      },
      "text/plain": [
       "  0%|          | 0/3408 [00:00<?, ?it/s]"
      ]
     },
     "metadata": {},
     "output_type": "display_data"
    },
    {
     "data": {
      "application/vnd.jupyter.widget-view+json": {
       "model_id": "3b42d3b9f6634c6aa2424f61ac1fe614",
       "version_major": 2,
       "version_minor": 0
      },
      "text/plain": [
       "  0%|          | 0/3408 [00:00<?, ?it/s]"
      ]
     },
     "metadata": {},
     "output_type": "display_data"
    },
    {
     "data": {
      "application/vnd.jupyter.widget-view+json": {
       "model_id": "a47b2f2c122b45d7a8230ed6d1c631f8",
       "version_major": 2,
       "version_minor": 0
      },
      "text/plain": [
       "  0%|          | 0/778 [00:00<?, ?it/s]"
      ]
     },
     "metadata": {},
     "output_type": "display_data"
    },
    {
     "data": {
      "application/vnd.jupyter.widget-view+json": {
       "model_id": "41ba1771db064ca58328c7e83dfe8125",
       "version_major": 2,
       "version_minor": 0
      },
      "text/plain": [
       "  0%|          | 0/778 [00:00<?, ?it/s]"
      ]
     },
     "metadata": {},
     "output_type": "display_data"
    },
    {
     "data": {
      "application/vnd.jupyter.widget-view+json": {
       "model_id": "d7099bd192b54b15baf6f2534fe163fe",
       "version_major": 2,
       "version_minor": 0
      },
      "text/plain": [
       "  0%|          | 0/778 [00:00<?, ?it/s]"
      ]
     },
     "metadata": {},
     "output_type": "display_data"
    },
    {
     "data": {
      "application/vnd.jupyter.widget-view+json": {
       "model_id": "066a9fd765b9446eb70b4aa81fc01461",
       "version_major": 2,
       "version_minor": 0
      },
      "text/plain": [
       "  0%|          | 0/1839 [00:00<?, ?it/s]"
      ]
     },
     "metadata": {},
     "output_type": "display_data"
    },
    {
     "data": {
      "application/vnd.jupyter.widget-view+json": {
       "model_id": "0c1cdbf3da574997a53cadbd696c96b7",
       "version_major": 2,
       "version_minor": 0
      },
      "text/plain": [
       "  0%|          | 0/1839 [00:00<?, ?it/s]"
      ]
     },
     "metadata": {},
     "output_type": "display_data"
    },
    {
     "data": {
      "application/vnd.jupyter.widget-view+json": {
       "model_id": "2fddfb37d1aa4459a879658b34b454b0",
       "version_major": 2,
       "version_minor": 0
      },
      "text/plain": [
       "  0%|          | 0/1839 [00:00<?, ?it/s]"
      ]
     },
     "metadata": {},
     "output_type": "display_data"
    }
   ],
   "source": [
    "# NLTK default\n",
    "# splits = [\"train\", \"test\", \"val_seen\", \"val_unseen\"]#, \"envdrop\", \"joint_train_envdrop\"]\n",
    "# f = open('r2r_sent_tokenizer.pickle', 'rb')\n",
    "# sent_tokenizer = pickle.load(f)\n",
    "# f.close()\n",
    "# sent_token = sent_tokenizer.tokenize\n",
    "# for split in splits:\n",
    "#     raw_data_path = \"%s/%s.json.gz\"%(split, split)\n",
    "#     sub_data_path = \"%s/%s_sub.json.gz\"%(split, split)\n",
    "#     with gzip.open(raw_data_path, \"r\") as f:\n",
    "#         raw_data = json.loads(f.read())\n",
    "#     sub_data = sub_segment_clip(raw_data, refine=False, append_dot=False, segment_func=sent_token)\n",
    "#     with gzip.open(sub_data_path, \"w\") as f:\n",
    "#         f.write(json.dumps(sub_data).encode(\"utf-8\"))"
   ]
  },
  {
   "cell_type": "code",
   "execution_count": 33,
   "metadata": {},
   "outputs": [
    {
     "name": "stdout",
     "output_type": "stream",
     "text": [
      "functools.partial(<function create_chunk at 0x7f1510c1e8c8>, nlp=<stanza.pipeline.core.Pipeline object at 0x7f13f2573f60>)\n"
     ]
    },
    {
     "data": {
      "application/vnd.jupyter.widget-view+json": {
       "model_id": "84f65092cc1846a4b33efaa6d61d0b42",
       "version_major": 2,
       "version_minor": 0
      },
      "text/plain": [
       "  0%|          | 0/10819 [00:00<?, ?it/s]"
      ]
     },
     "metadata": {},
     "output_type": "display_data"
    },
    {
     "data": {
      "application/vnd.jupyter.widget-view+json": {
       "model_id": "c023f64f103141e1b3b1b6dcf6d1e66e",
       "version_major": 2,
       "version_minor": 0
      },
      "text/plain": [
       "  0%|          | 0/10819 [00:00<?, ?it/s]"
      ]
     },
     "metadata": {},
     "output_type": "display_data"
    },
    {
     "data": {
      "application/vnd.jupyter.widget-view+json": {
       "model_id": "0eccde4825e047f8b513fb5a8281b6ad",
       "version_major": 2,
       "version_minor": 0
      },
      "text/plain": [
       "  0%|          | 0/10819 [00:00<?, ?it/s]"
      ]
     },
     "metadata": {},
     "output_type": "display_data"
    },
    {
     "name": "stdout",
     "output_type": "stream",
     "text": [
      "functools.partial(<function create_chunk at 0x7f1510c1e8c8>, nlp=<stanza.pipeline.core.Pipeline object at 0x7f13f2573f60>)\n"
     ]
    },
    {
     "data": {
      "application/vnd.jupyter.widget-view+json": {
       "model_id": "d2088687798c472086892b258a110792",
       "version_major": 2,
       "version_minor": 0
      },
      "text/plain": [
       "  0%|          | 0/3408 [00:00<?, ?it/s]"
      ]
     },
     "metadata": {},
     "output_type": "display_data"
    },
    {
     "data": {
      "application/vnd.jupyter.widget-view+json": {
       "model_id": "769c48800cfa4f3ea77e5d13f4972cfb",
       "version_major": 2,
       "version_minor": 0
      },
      "text/plain": [
       "  0%|          | 0/3408 [00:00<?, ?it/s]"
      ]
     },
     "metadata": {},
     "output_type": "display_data"
    },
    {
     "data": {
      "application/vnd.jupyter.widget-view+json": {
       "model_id": "f43832ca1662473a97cad59e63de7c4c",
       "version_major": 2,
       "version_minor": 0
      },
      "text/plain": [
       "  0%|          | 0/3408 [00:00<?, ?it/s]"
      ]
     },
     "metadata": {},
     "output_type": "display_data"
    },
    {
     "name": "stdout",
     "output_type": "stream",
     "text": [
      "functools.partial(<function create_chunk at 0x7f1510c1e8c8>, nlp=<stanza.pipeline.core.Pipeline object at 0x7f13f2573f60>)\n"
     ]
    },
    {
     "data": {
      "application/vnd.jupyter.widget-view+json": {
       "model_id": "f737b4054f204e2aa328e60f28d6d55d",
       "version_major": 2,
       "version_minor": 0
      },
      "text/plain": [
       "  0%|          | 0/778 [00:00<?, ?it/s]"
      ]
     },
     "metadata": {},
     "output_type": "display_data"
    },
    {
     "data": {
      "application/vnd.jupyter.widget-view+json": {
       "model_id": "d99347136727462eb62923b302f613cf",
       "version_major": 2,
       "version_minor": 0
      },
      "text/plain": [
       "  0%|          | 0/778 [00:00<?, ?it/s]"
      ]
     },
     "metadata": {},
     "output_type": "display_data"
    },
    {
     "data": {
      "application/vnd.jupyter.widget-view+json": {
       "model_id": "3563b4092bfb4b3d8f00fb039f4a7aa6",
       "version_major": 2,
       "version_minor": 0
      },
      "text/plain": [
       "  0%|          | 0/778 [00:00<?, ?it/s]"
      ]
     },
     "metadata": {},
     "output_type": "display_data"
    },
    {
     "name": "stdout",
     "output_type": "stream",
     "text": [
      "functools.partial(<function create_chunk at 0x7f1510c1e8c8>, nlp=<stanza.pipeline.core.Pipeline object at 0x7f13f2573f60>)\n"
     ]
    },
    {
     "data": {
      "application/vnd.jupyter.widget-view+json": {
       "model_id": "898d0e158adc406d8f58484a3f8912d2",
       "version_major": 2,
       "version_minor": 0
      },
      "text/plain": [
       "  0%|          | 0/1839 [00:00<?, ?it/s]"
      ]
     },
     "metadata": {},
     "output_type": "display_data"
    },
    {
     "data": {
      "application/vnd.jupyter.widget-view+json": {
       "model_id": "59578ef60f57436184099ad265fb05ab",
       "version_major": 2,
       "version_minor": 0
      },
      "text/plain": [
       "  0%|          | 0/1839 [00:00<?, ?it/s]"
      ]
     },
     "metadata": {},
     "output_type": "display_data"
    },
    {
     "data": {
      "application/vnd.jupyter.widget-view+json": {
       "model_id": "ee70ac3e95ff4ea79f704f6706f3796a",
       "version_major": 2,
       "version_minor": 0
      },
      "text/plain": [
       "  0%|          | 0/1839 [00:00<?, ?it/s]"
      ]
     },
     "metadata": {},
     "output_type": "display_data"
    }
   ],
   "source": [
    "# FGR2R \n",
    "splits = [\"train\", \"test\", \"val_seen\", \"val_unseen\", \"envdrop\", \"joint_train_envdrop\"]\n",
    "nlp = stanza.Pipeline()\n",
    "sent_token = functools.partial(create_chunk, nlp=nlp)\n",
    "for split in splits:\n",
    "    raw_data_path = \"%s/%s.json.gz\"%(split, split)\n",
    "    sub_data_path = \"%s/%s_sub.json.gz\"%(split, split)\n",
    "    with gzip.open(raw_data_path, \"r\") as f:\n",
    "        raw_data = json.loads(f.read())\n",
    "    sub_data = sub_segment_clip(raw_data, refine=False, append_dot=False, segment_func=sent_token)\n",
    "    with gzip.open(sub_data_path, \"w\") as f:\n",
    "        f.write(json.dumps(sub_data).encode(\"utf-8\"))"
   ]
  },
  {
   "cell_type": "markdown",
   "metadata": {},
   "source": [
    "# Statics"
   ]
  },
  {
   "cell_type": "code",
   "execution_count": 4,
   "metadata": {},
   "outputs": [
    {
     "data": {
      "application/vnd.jupyter.widget-view+json": {
       "model_id": "e71a73de65e7458e92e6e4f5258baa0f",
       "version_major": 2,
       "version_minor": 0
      },
      "text/plain": [
       "  0%|          | 0/10819 [00:00<?, ?it/s]"
      ]
     },
     "metadata": {},
     "output_type": "display_data"
    },
    {
     "data": {
      "application/vnd.jupyter.widget-view+json": {
       "model_id": "0d31dcb1e6cd4a1184bea020882b8bd1",
       "version_major": 2,
       "version_minor": 0
      },
      "text/plain": [
       "  0%|          | 0/10819 [00:00<?, ?it/s]"
      ]
     },
     "metadata": {},
     "output_type": "display_data"
    },
    {
     "data": {
      "application/vnd.jupyter.widget-view+json": {
       "model_id": "20e53707f5034b44ba942f7b14d2da3f",
       "version_major": 2,
       "version_minor": 0
      },
      "text/plain": [
       "  0%|          | 0/778 [00:00<?, ?it/s]"
      ]
     },
     "metadata": {},
     "output_type": "display_data"
    },
    {
     "data": {
      "application/vnd.jupyter.widget-view+json": {
       "model_id": "62c7769da10e4ef998e266de990e87c7",
       "version_major": 2,
       "version_minor": 0
      },
      "text/plain": [
       "  0%|          | 0/778 [00:00<?, ?it/s]"
      ]
     },
     "metadata": {},
     "output_type": "display_data"
    },
    {
     "data": {
      "application/vnd.jupyter.widget-view+json": {
       "model_id": "5b302bb1f49d46db888574b310c356a1",
       "version_major": 2,
       "version_minor": 0
      },
      "text/plain": [
       "  0%|          | 0/1839 [00:00<?, ?it/s]"
      ]
     },
     "metadata": {},
     "output_type": "display_data"
    },
    {
     "data": {
      "application/vnd.jupyter.widget-view+json": {
       "model_id": "6f4a028a8a86458589fa60fd10233d8b",
       "version_major": 2,
       "version_minor": 0
      },
      "text/plain": [
       "  0%|          | 0/1839 [00:00<?, ?it/s]"
      ]
     },
     "metadata": {},
     "output_type": "display_data"
    },
    {
     "data": {
      "application/vnd.jupyter.widget-view+json": {
       "model_id": "fe8887f5e9854e26b5b2bf5bc6359049",
       "version_major": 2,
       "version_minor": 0
      },
      "text/plain": [
       "  0%|          | 0/3408 [00:00<?, ?it/s]"
      ]
     },
     "metadata": {},
     "output_type": "display_data"
    },
    {
     "data": {
      "application/vnd.jupyter.widget-view+json": {
       "model_id": "496f7f3a9efb4370bce1889dbcd274b0",
       "version_major": 2,
       "version_minor": 0
      },
      "text/plain": [
       "  0%|          | 0/3408 [00:00<?, ?it/s]"
      ]
     },
     "metadata": {},
     "output_type": "display_data"
    }
   ],
   "source": [
    "raw_instructions = []\n",
    "sub_instructions = []\n",
    "splits = [\"train\", \"val_seen\", \"val_unseen\",\"test\"]\n",
    "for split in splits:\n",
    "    sub_data_path = \"%s/%s_sub.json.gz\"%(split, split)\n",
    "    with gzip.open(sub_data_path, \"r\") as f:\n",
    "        sub_data = json.loads(f.read())\n",
    "    for item in tqdm(sub_data[\"episodes\"]):\n",
    "        raw_instructions.append(item[\"instruction\"][\"instruction_text\"])\n",
    "    for item in tqdm(sub_data[\"episodes\"]):\n",
    "        sub_instructions.append(item[\"sub_instruction\"])"
   ]
  },
  {
   "cell_type": "code",
   "execution_count": 5,
   "metadata": {},
   "outputs": [
    {
     "name": "stdout",
     "output_type": "stream",
     "text": [
      "4.20363334124911\n"
     ]
    }
   ],
   "source": [
    "lens = [len(raw_instructions), sum([len(v) for v in sub_instructions])]\n",
    "print(np.mean([len(v) for v in sub_instructions]))"
   ]
  },
  {
   "cell_type": "code",
   "execution_count": 6,
   "metadata": {},
   "outputs": [],
   "source": [
    "raw_len_list = [len(nltk.word_tokenize(v)) for v in raw_instructions]\n",
    "sub_len_list = [len(nltk.word_tokenize(v)) for v in list(itertools.chain.from_iterable(sub_instructions))]"
   ]
  },
  {
   "cell_type": "code",
   "execution_count": 7,
   "metadata": {},
   "outputs": [
    {
     "data": {
      "image/png": "[encoded data removed]",
      "text/plain": [
       "<Figure size 460.8x345.6 with 1 Axes>"
      ]
     },
     "metadata": {
      "needs_background": "light"
     },
     "output_type": "display_data"
    }
   ],
   "source": [
    "fig = plt.figure(figsize=(6.4,4.8))\n",
    "ax = fig.add_subplot()\n",
    "sns.histplot({\"raw (totally 13436 sentences)\":raw_len_list,\"segment (totally 54832 sentences)\":sub_len_list}, ax=ax, binrange=[0,80], binwidth=2)\n",
    "ax.set_xlabel(\"Word number\")\n",
    "ax.set_title(\"Histogram of word numbers in a sentence\")\n",
    "plt.savefig(\"tmp4.jpg\",dpi=100, bbox_inches = 'tight')\n",
    "plt.show()"
   ]
  },
  {
   "cell_type": "code",
   "execution_count": 8,
   "metadata": {},
   "outputs": [
    {
     "data": {
      "image/png": "[encoded data removed]",
      "text/plain": [
       "<Figure size 640x480 with 1 Axes>"
      ]
     },
     "metadata": {
      "needs_background": "light"
     },
     "output_type": "display_data"
    }
   ],
   "source": [
    "sub_num_list = [len(v) for v in sub_instructions]\n",
    "sub_num_cnt = Counter(sub_num_list)\n",
    "fig = plt.figure(figsize=(6.4,4.8),dpi=100)\n",
    "ax = fig.add_subplot()\n",
    "sns.barplot(x=list(sub_num_cnt.keys()), y=list(sub_num_cnt.values()))\n",
    "plt.title(\"%2.2f%% instructions contain >= 2 subs\"%((1-sub_num_cnt[1]/np.sum(list(sub_num_cnt.values())))*100 ))\n",
    "plt.savefig(\"tmp3.jpg\",dpi=100)"
   ]
  },
  {
   "cell_type": "code",
   "execution_count": 111,
   "metadata": {},
   "outputs": [
    {
     "data": {
      "text/plain": [
       "13436"
      ]
     },
     "execution_count": 111,
     "metadata": {},
     "output_type": "execute_result"
    }
   ],
   "source": [
    "np.sum(list(sub_num_cnt.values()))"
   ]
  },
  {
   "cell_type": "markdown",
   "metadata": {
    "tags": []
   },
   "source": [
    "# Example"
   ]
  },
  {
   "cell_type": "code",
   "execution_count": 57,
   "metadata": {},
   "outputs": [],
   "source": [
    "split = \"train\"\n",
    "sub_data_path = \"%s/%s_sub.json.gz\"%(split, split)\n",
    "with gzip.open(sub_data_path, \"r\") as f:\n",
    "    sub_data = json.loads(f.read())\n",
    "split = \"train\"\n",
    "sub_data_path = \"/home/raven/codes/vln-ce/data/datasets/R2R_VLNCE_FGR2R/%s/%s_sub.json.gz\"%(split, split)\n",
    "with gzip.open(sub_data_path, \"r\") as f:\n",
    "    sub_data1 = json.loads(f.read())"
   ]
  },
  {
   "cell_type": "code",
   "execution_count": 59,
   "metadata": {},
   "outputs": [
    {
     "name": "stdout",
     "output_type": "stream",
     "text": [
      "['Go around the right side of the center unit', 'and stop by the right side doorway with the dining table and mirror in it']\n",
      "['go around the right side of the center unit', 'and stop by the right side doorway with the dining table', 'and mirror in it']\n",
      "['Go around the kitchen island', 'and wait between the tall cabinet and wine fridge']\n",
      "['go around the kitchen island', 'and wait between the tall cabinet and wine fridge']\n",
      "['Turn to the right', 'go past the refrigerator', 'Turn left', \"and walk to the point where you 're to the hallway by the entry and dining room area\"]\n",
      "['turn to the right', 'go past the refrigerator', 'turn left and walk to the point where you be to the hallway by the entry and dining room area']\n",
      "['Enter the bedroom', 'and go around the bed', 'Go to the closet on the far wall on the left', 'Stop in the doorway']\n",
      "['enter the bedroom', 'and go around the bed', 'go to the closet on the far wall on the left', 'stop in the doorway']\n",
      "['Walk around the bed in the bedroom', 'Walk into the closet area on the other side of the bed that has empty shelves inside']\n",
      "['walk around the bed in the bedroom', 'walk into the closet area on the other side of the bed that have empty shelf inside']\n",
      "['Go into the room', 'turn left at the foot of the bed', 'and left again at the far side of the bed', 'Go to the doorway to the closet on the right', 'and stop']\n",
      "['go into the room', 'turn left at the foot of the bed', 'and left again at the far side of the bed', 'go to the doorway to the closet on the right', 'and stop']\n",
      "['Exit the bedroom', 'and turn right', 'Walk past the staircase and to the door on the right in front of an entryway', \"Go through the door and you 'll be in an office area\"]\n",
      "['exit the bedroom', 'and turn right', 'walk past the staircase and to the door on the right in front of a entryway', 'go through the door', 'and you will be in a office area']\n",
      "['Go through the doorway to the hall', 'Go down the hall past teh landing', 'Take the first door on the right', 'and stop in the doorway']\n",
      "['go through the doorway to the hall', 'go down the hall past the landing', 'take the first door on the right', 'and stop in the doorway']\n",
      "['Move forward', 'and exit the room', 'Upon exiting', 'turn to your right', 'and move down the hallway, past the stairs on the right side', 'Enter the next doorway to your right', 'and stop']\n",
      "['move forward and exit the room', 'upon exit turn to your right', 'and move down the hallway past the stair on the right side', 'enter the next doorway to your right', 'and stop']\n",
      "['With the sink on your left go around the counter and into the main room taking a left in the hallway', 'and walking down the hall going right', 'and stopping at the top of the stairs in the hallway']\n",
      "['with the sink on your left go around the counter', 'and into the main room take a left in the hallway and walk down the hall go right and stop at the top of the stair in the hallway']\n"
     ]
    }
   ],
   "source": [
    "for i in range(0,10):\n",
    "    print(sub_data[\"episodes\"][i][\"sub_instruction\"])\n",
    "    print(sub_data1[\"episodes\"][i][\"sub_instruction\"])"
   ]
  },
  {
   "cell_type": "code",
   "execution_count": 60,
   "metadata": {},
   "outputs": [
    {
     "name": "stdout",
     "output_type": "stream",
     "text": [
      "{'episode_id': 3, 'trajectory_id': 4, 'scene_id': 'mp3d/7y3sRwLe3Va/7y3sRwLe3Va.glb', 'start_position': [-16.267200469970703, 0.1518409252166748, 0.7207760214805603], 'start_rotation': [0, 0.0007963267107332633, 0, 0.9999996829318346], 'info': {'geodesic_distance': 6.425291538238525}, 'goals': [{'position': [-12.337400436401367, 0.1518409252166748, 4.213699817657471], 'radius': 3.0}], 'instruction': {'instruction_text': \"Turn to the right, go past the refrigerator.  Turn left and walk to the point where you're to the hallway by the entry and dining room area. \", 'instruction_tokens': [2300, 2246, 2202, 1819, 982, 1589, 2202, 1799, 9, 2300, 1251, 103, 2384, 2246, 2202, 1691, 2431, 2496, 4, 1773, 2246, 2202, 1036, 372, 2202, 800, 103, 660, 1842, 133, 9, 0, 0, 0, 0, 0, 0, 0, 0, 0, 0, 0, 0, 0, 0, 0, 0, 0, 0, 0, 0, 0, 0, 0, 0, 0, 0, 0, 0, 0, 0, 0, 0, 0, 0, 0, 0, 0, 0, 0, 0, 0, 0, 0, 0, 0, 0, 0, 0, 0, 0, 0, 0, 0, 0, 0, 0, 0, 0, 0, 0, 0, 0, 0, 0, 0, 0, 0, 0, 0]}, 'reference_path': [[-16.267200469970703, 0.1518409252166748, 0.7207760214805603], [-16.284099578857422, 0.1518409252166748, 2.412369966506958], [-16.154499053955078, 0.1518409252166748, 4.137710094451904], [-13.90719985961914, 0.1518409252166748, 4.228209972381592], [-12.337400436401367, 0.1518409252166748, 4.213699817657471]], 'sub_instruction': ['Turn to the right', 'go past the refrigerator', 'Turn left', \"and walk to the point where you 're to the hallway by the entry and dining room area\"], 'sub_instruction_tokens': [[49406, 2105, 531, 518, 1155, 49407, 0, 0, 0, 0, 0, 0, 0, 0, 0, 0, 0, 0, 0, 0, 0, 0, 0, 0, 0, 0, 0, 0, 0, 0, 0, 0, 0, 0, 0, 0, 0, 0, 0, 0, 0, 0, 0, 0, 0, 0, 0, 0, 0, 0, 0, 0, 0, 0, 0, 0, 0, 0, 0, 0, 0, 0, 0, 0, 0, 0, 0, 0, 0, 0, 0, 0, 0, 0, 0, 0, 0], [49406, 861, 2729, 518, 36662, 49407, 0, 0, 0, 0, 0, 0, 0, 0, 0, 0, 0, 0, 0, 0, 0, 0, 0, 0, 0, 0, 0, 0, 0, 0, 0, 0, 0, 0, 0, 0, 0, 0, 0, 0, 0, 0, 0, 0, 0, 0, 0, 0, 0, 0, 0, 0, 0, 0, 0, 0, 0, 0, 0, 0, 0, 0, 0, 0, 0, 0, 0, 0, 0, 0, 0, 0, 0, 0, 0, 0, 0], [49406, 2105, 1823, 49407, 0, 0, 0, 0, 0, 0, 0, 0, 0, 0, 0, 0, 0, 0, 0, 0, 0, 0, 0, 0, 0, 0, 0, 0, 0, 0, 0, 0, 0, 0, 0, 0, 0, 0, 0, 0, 0, 0, 0, 0, 0, 0, 0, 0, 0, 0, 0, 0, 0, 0, 0, 0, 0, 0, 0, 0, 0, 0, 0, 0, 0, 0, 0, 0, 0, 0, 0, 0, 0, 0, 0, 0, 0], [49406, 537, 2374, 531, 518, 2301, 1234, 592, 982, 531, 518, 26845, 638, 518, 5362, 537, 8658, 1530, 2445, 49407, 0, 0, 0, 0, 0, 0, 0, 0, 0, 0, 0, 0, 0, 0, 0, 0, 0, 0, 0, 0, 0, 0, 0, 0, 0, 0, 0, 0, 0, 0, 0, 0, 0, 0, 0, 0, 0, 0, 0, 0, 0, 0, 0, 0, 0, 0, 0, 0, 0, 0, 0, 0, 0, 0, 0, 0, 0], [0, 0, 0, 0, 0, 0, 0, 0, 0, 0, 0, 0, 0, 0, 0, 0, 0, 0, 0, 0, 0, 0, 0, 0, 0, 0, 0, 0, 0, 0, 0, 0, 0, 0, 0, 0, 0, 0, 0, 0, 0, 0, 0, 0, 0, 0, 0, 0, 0, 0, 0, 0, 0, 0, 0, 0, 0, 0, 0, 0, 0, 0, 0, 0, 0, 0, 0, 0, 0, 0, 0, 0, 0, 0, 0, 0, 0], [0, 0, 0, 0, 0, 0, 0, 0, 0, 0, 0, 0, 0, 0, 0, 0, 0, 0, 0, 0, 0, 0, 0, 0, 0, 0, 0, 0, 0, 0, 0, 0, 0, 0, 0, 0, 0, 0, 0, 0, 0, 0, 0, 0, 0, 0, 0, 0, 0, 0, 0, 0, 0, 0, 0, 0, 0, 0, 0, 0, 0, 0, 0, 0, 0, 0, 0, 0, 0, 0, 0, 0, 0, 0, 0, 0, 0], [0, 0, 0, 0, 0, 0, 0, 0, 0, 0, 0, 0, 0, 0, 0, 0, 0, 0, 0, 0, 0, 0, 0, 0, 0, 0, 0, 0, 0, 0, 0, 0, 0, 0, 0, 0, 0, 0, 0, 0, 0, 0, 0, 0, 0, 0, 0, 0, 0, 0, 0, 0, 0, 0, 0, 0, 0, 0, 0, 0, 0, 0, 0, 0, 0, 0, 0, 0, 0, 0, 0, 0, 0, 0, 0, 0, 0], [0, 0, 0, 0, 0, 0, 0, 0, 0, 0, 0, 0, 0, 0, 0, 0, 0, 0, 0, 0, 0, 0, 0, 0, 0, 0, 0, 0, 0, 0, 0, 0, 0, 0, 0, 0, 0, 0, 0, 0, 0, 0, 0, 0, 0, 0, 0, 0, 0, 0, 0, 0, 0, 0, 0, 0, 0, 0, 0, 0, 0, 0, 0, 0, 0, 0, 0, 0, 0, 0, 0, 0, 0, 0, 0, 0, 0], [0, 0, 0, 0, 0, 0, 0, 0, 0, 0, 0, 0, 0, 0, 0, 0, 0, 0, 0, 0, 0, 0, 0, 0, 0, 0, 0, 0, 0, 0, 0, 0, 0, 0, 0, 0, 0, 0, 0, 0, 0, 0, 0, 0, 0, 0, 0, 0, 0, 0, 0, 0, 0, 0, 0, 0, 0, 0, 0, 0, 0, 0, 0, 0, 0, 0, 0, 0, 0, 0, 0, 0, 0, 0, 0, 0, 0], [0, 0, 0, 0, 0, 0, 0, 0, 0, 0, 0, 0, 0, 0, 0, 0, 0, 0, 0, 0, 0, 0, 0, 0, 0, 0, 0, 0, 0, 0, 0, 0, 0, 0, 0, 0, 0, 0, 0, 0, 0, 0, 0, 0, 0, 0, 0, 0, 0, 0, 0, 0, 0, 0, 0, 0, 0, 0, 0, 0, 0, 0, 0, 0, 0, 0, 0, 0, 0, 0, 0, 0, 0, 0, 0, 0, 0]]}\n"
     ]
    }
   ],
   "source": [
    "print(sub_data[\"episodes\"][2])"
   ]
  },
  {
   "cell_type": "markdown",
   "metadata": {},
   "source": [
    "# Comparison betweeen FGR2R and SSASub"
   ]
  },
  {
   "cell_type": "code",
   "execution_count": 6,
   "metadata": {},
   "outputs": [
    {
     "data": {
      "application/vnd.jupyter.widget-view+json": {
       "model_id": "f9e91dc63ea54799a6cce9e4a59f6a67",
       "version_major": 2,
       "version_minor": 0
      },
      "text/plain": [
       "  0%|          | 0/10819 [00:00<?, ?it/s]"
      ]
     },
     "metadata": {},
     "output_type": "display_data"
    },
    {
     "data": {
      "application/vnd.jupyter.widget-view+json": {
       "model_id": "5381899caa854696936177f08575baf1",
       "version_major": 2,
       "version_minor": 0
      },
      "text/plain": [
       "  0%|          | 0/778 [00:00<?, ?it/s]"
      ]
     },
     "metadata": {},
     "output_type": "display_data"
    },
    {
     "data": {
      "application/vnd.jupyter.widget-view+json": {
       "model_id": "d8586c7d53bc4f95a79a7738d755c121",
       "version_major": 2,
       "version_minor": 0
      },
      "text/plain": [
       "  0%|          | 0/1839 [00:00<?, ?it/s]"
      ]
     },
     "metadata": {},
     "output_type": "display_data"
    },
    {
     "data": {
      "application/vnd.jupyter.widget-view+json": {
       "model_id": "97ae3365d073423581ea28cd86279524",
       "version_major": 2,
       "version_minor": 0
      },
      "text/plain": [
       "  0%|          | 0/3408 [00:00<?, ?it/s]"
      ]
     },
     "metadata": {},
     "output_type": "display_data"
    },
    {
     "data": {
      "application/vnd.jupyter.widget-view+json": {
       "model_id": "0c32d980f62c407f9ab7b472764d899f",
       "version_major": 2,
       "version_minor": 0
      },
      "text/plain": [
       "  0%|          | 0/10819 [00:00<?, ?it/s]"
      ]
     },
     "metadata": {},
     "output_type": "display_data"
    },
    {
     "data": {
      "application/vnd.jupyter.widget-view+json": {
       "model_id": "e0f02dfa63054663850e4ea931e40626",
       "version_major": 2,
       "version_minor": 0
      },
      "text/plain": [
       "  0%|          | 0/778 [00:00<?, ?it/s]"
      ]
     },
     "metadata": {},
     "output_type": "display_data"
    },
    {
     "data": {
      "application/vnd.jupyter.widget-view+json": {
       "model_id": "830c972c32a340f7baf27efa5d0535c8",
       "version_major": 2,
       "version_minor": 0
      },
      "text/plain": [
       "  0%|          | 0/1839 [00:00<?, ?it/s]"
      ]
     },
     "metadata": {},
     "output_type": "display_data"
    },
    {
     "data": {
      "application/vnd.jupyter.widget-view+json": {
       "model_id": "5cf4f5c413354a6a8b7c13f282a99f06",
       "version_major": 2,
       "version_minor": 0
      },
      "text/plain": [
       "  0%|          | 0/3408 [00:00<?, ?it/s]"
      ]
     },
     "metadata": {},
     "output_type": "display_data"
    }
   ],
   "source": [
    "\n",
    "from tqdm.notebook import tqdm\n",
    "import matplotlib.pyplot as plt\n",
    "import numpy as np\n",
    "import seaborn as sns\n",
    "import gzip\n",
    "import json\n",
    "\n",
    "plt.rcParams['font.sans-serif'] = [\"Arial\"]\n",
    "plt.rcParams['axes.unicode_minus'] = False\n",
    "sub_instructions = []\n",
    "splits = [\"train\", \"val_seen\", \"val_unseen\",\"test\"]\n",
    "for split in splits:\n",
    "    # /home/raven/codes/vln-ce/data/datasets/R2R_VLNCE_FGR2R/\n",
    "    sub_data_path = \"NRSub/%s/%s_sub.json.gz\"%(split, split)\n",
    "    with gzip.open(sub_data_path, \"r\") as f:\n",
    "        sub_data = json.loads(f.read())\n",
    "    for item in tqdm(sub_data[\"episodes\"]):\n",
    "        sub_instructions.append(item[\"sub_instruction\"])\n",
    "nltkr_lens = [len(v) for v in sub_instructions]\n",
    "sub_instructions = []\n",
    "for split in splits:\n",
    "    # /home/raven/codes/vln-ce/data/datasets/R2R_VLNCE_FGR2R/\n",
    "    sub_data_path = \"FGSub/%s/%s_sub.json.gz\"%(split, split)\n",
    "    with gzip.open(sub_data_path, \"r\") as f:\n",
    "        sub_data = json.loads(f.read())\n",
    "    for item in tqdm(sub_data[\"episodes\"]):\n",
    "        sub_instructions.append(item[\"sub_instruction\"])\n",
    "fgr2r_lens = [len(v) for v in sub_instructions]\n",
    "fgr2r_mean = np.mean(np.array(fgr2r_lens))\n",
    "nltkr_mean = np.mean(np.array(nltkr_lens))"
   ]
  },
  {
   "cell_type": "code",
   "execution_count": 2,
   "metadata": {},
   "outputs": [
    {
     "data": {
      "image/png": "[encoded data removed]",
      "text/plain": [
       "<Figure size 576x360 with 1 Axes>"
      ]
     },
     "metadata": {
      "needs_background": "light"
     },
     "output_type": "display_data"
    }
   ],
   "source": [
    "fig = plt.figure(figsize=(8, 5))\n",
    "ax = fig.add_subplot(111)\n",
    "c = [plt.cm.Spectral(i/1.0) for i in range(2)]\n",
    "sns.histplot({\"FGSub (62675 sentences)\": fgr2r_lens, \"NLTKSub (70806 sentences)\": nltkr_lens}, ax=ax, binrange=[\n",
    "             0, 12], binwidth=1, kde=True, kde_kws={\"gridsize\": 100, \"bw_method\": 0.4}, line_kws={\"linewidth\":2}, zorder=1000)\n",
    "# ax.hist(fgr2r_lens,density=True, bins=10, alpha=0.75)\n",
    "# ax.hist(nltkr_lens,density=True, bins=10, alpha=0.75)\n",
    "ax.set_xlabel(\"Sub-instruction Number\", fontsize=13, fontweight='bold')\n",
    "ax.set_ylabel(\"Frequency\", fontsize=13, fontweight='bold')\n",
    "ax.set_title(\"Histogram of Sub-instruction Numbers\", fontsize=13, fontweight='bold')\n",
    "ax.set_xlim([0, 12])\n",
    "ax.legend([\"FGSub (62675 sentences)\", \"NLTKSub (70806 sentences)\"])\n",
    "plt.xticks(fontsize=12, )\n",
    "plt.yticks(fontsize=12, )\n",
    "leg = ax.get_legend()\n",
    "ltext = leg.get_texts()\n",
    "plt.setp(ltext, fontsize=12, fontweight='bold')\n",
    "plt.savefig(\"cmp_sub.pdf\", bbox_inches='tight')\n",
    "plt.show()"
   ]
  },
  {
   "cell_type": "code",
   "execution_count": 14,
   "metadata": {},
   "outputs": [
    {
     "data": {
      "image/png": "[encoded data removed]",
      "text/plain": [
       "<Figure size 576x360 with 1 Axes>"
      ]
     },
     "metadata": {
      "needs_background": "light"
     },
     "output_type": "display_data"
    }
   ],
   "source": [
    "fig = plt.figure(figsize=(8, 5))\n",
    "ax = fig.add_subplot(111)\n",
    "sns.kdeplot(fgr2r_lens, shade=True, label=\"Cyl=4\", alpha=.7, gridsize=200, bw_method=0.35)\n",
    "sns.kdeplot(nltkr_lens, shade=True, label=\"Cyl=4\", alpha=.7, gridsize=200, bw_method=0.35)\n",
    "ax.set_xlabel(\"Sub-instruction Number\", fontsize=13, fontweight='bold')\n",
    "ax.set_ylabel(\"Density Estimation\", fontsize=13, fontweight='bold')\n",
    "ax.set_title(\"KDE Plot of Sub-instruction Numbers\", fontsize=13, fontweight='bold')\n",
    "ax.set_xlim([0, 12])\n",
    "ax.legend([\"FGSub (62675 sentences)\", \"NRSub (70806 sentences)\"])\n",
    "plt.xticks(fontsize=12, ) \n",
    "plt.yticks(fontsize=12, )\n",
    "leg = ax.get_legend()\n",
    "ltext = leg.get_texts()\n",
    "plt.setp(ltext, fontsize=12, fontweight='bold')\n",
    "plt.savefig(\"cmp_sub_kde.pdf\", bbox_inches='tight')\n",
    "plt.show()"
   ]
  },
  {
   "cell_type": "code",
   "execution_count": null,
   "metadata": {},
   "outputs": [],
   "source": []
  }
 ],
 "metadata": {
  "interpreter": {
   "hash": "50db2573f28189c682c52962d3ee30d1a8d561edce03b1a3b63a1b1e1fa28c84"
  },
  "kernelspec": {
   "display_name": "Python 3",
   "language": "python",
   "name": "python3"
  },
  "language_info": {
   "codemirror_mode": {
    "name": "ipython",
    "version": 3
   },
   "file_extension": ".py",
   "mimetype": "text/x-python",
   "name": "python",
   "nbconvert_exporter": "python",
   "pygments_lexer": "ipython3",
   "version": "3.7.4"
  }
 },
 "nbformat": 4,
 "nbformat_minor": 5
}
